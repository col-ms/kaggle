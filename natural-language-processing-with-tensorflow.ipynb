{
 "cells": [
  {
   "cell_type": "markdown",
   "id": "8a8d788b",
   "metadata": {
    "_cell_guid": "b1076dfc-b9ad-4769-8c92-a6c4dae69d19",
    "_uuid": "8f2839f25d086af736a60e9eeb907d3b93b6e0e5",
    "papermill": {
     "duration": 0.006447,
     "end_time": "2022-05-27T17:46:59.708580",
     "exception": false,
     "start_time": "2022-05-27T17:46:59.702133",
     "status": "completed"
    },
    "tags": []
   },
   "source": [
    "# Natural Language Processing with TensorFlow\n",
    "\n",
    "**In this notebook I will be using TensorFlow to process tweets and predict whether they pertain to a disaster or not.**\n",
    "\n",
    "---\n",
    "\n",
    "**Notes**  \n",
    "\n",
    "- This notebook was created using the guide found [here](https://www.kaggle.com/code/calebreigada/tensorflow-natural-language-processing-guide/notebook). \n",
    "- I do not take any credit for the methods displayed, as I am following a guide and simply applying the techniques there to a different set of data.\n",
    "- As suggested in the guide linked, prior research was done on unfamiliar topics to help understand the work flow better. I am certainly not an expert in this topic and am still learning.\n",
    "\n",
    "---\n"
   ]
  },
  {
   "cell_type": "markdown",
   "id": "6f000f48",
   "metadata": {
    "papermill": {
     "duration": 0.004969,
     "end_time": "2022-05-27T17:46:59.721106",
     "exception": false,
     "start_time": "2022-05-27T17:46:59.716137",
     "status": "completed"
    },
    "tags": []
   },
   "source": [
    "# Loading the Data\n",
    "\n",
    "For this notebook, I will be using the [Natural Language Processing with Disaster Tweets](https://www.kaggle.com/competitions/nlp-getting-started) dataset. This set is a great way to get started with NLP models and applications, and understand how machine learning algorithms can be used on non-numeric data through data transformations.  \n",
    "\n",
    "The dataset contains tweets that fall into one of two conditions: either they are discussing a real life disaster, or they are not. This may seem like a fairly easy thing to discern, but as listed on the dataset's page, there are instances where based on wording alone, it can be difficult to identify the correct category. "
   ]
  },
  {
   "cell_type": "code",
   "execution_count": 1,
   "id": "b2ce2d1f",
   "metadata": {
    "execution": {
     "iopub.execute_input": "2022-05-27T17:46:59.733666Z",
     "iopub.status.busy": "2022-05-27T17:46:59.732768Z",
     "iopub.status.idle": "2022-05-27T17:47:06.815426Z",
     "shell.execute_reply": "2022-05-27T17:47:06.814374Z"
    },
    "papermill": {
     "duration": 7.092098,
     "end_time": "2022-05-27T17:47:06.818279",
     "exception": false,
     "start_time": "2022-05-27T17:46:59.726181",
     "status": "completed"
    },
    "tags": []
   },
   "outputs": [],
   "source": [
    "# Importing libraries\n",
    "import tensorflow as tf\n",
    "import numpy as np\n",
    "import matplotlib.pyplot as plt\n",
    "import pandas as pd\n",
    "import nltk\n",
    "import re\n",
    "import string\n",
    "from nltk.corpus import stopwords"
   ]
  },
  {
   "cell_type": "code",
   "execution_count": 2,
   "id": "4c18d870",
   "metadata": {
    "execution": {
     "iopub.execute_input": "2022-05-27T17:47:06.830207Z",
     "iopub.status.busy": "2022-05-27T17:47:06.829350Z",
     "iopub.status.idle": "2022-05-27T17:47:06.907972Z",
     "shell.execute_reply": "2022-05-27T17:47:06.906809Z"
    },
    "papermill": {
     "duration": 0.086979,
     "end_time": "2022-05-27T17:47:06.910333",
     "exception": false,
     "start_time": "2022-05-27T17:47:06.823354",
     "status": "completed"
    },
    "tags": []
   },
   "outputs": [],
   "source": [
    "# Reading in data\n",
    "train_full = pd.read_csv(\"../input/nlp-getting-started/train.csv\")\n",
    "test_full = pd.read_csv(\"../input/nlp-getting-started/test.csv\")\n",
    "\n",
    "train_text = train_full[\"text\"]\n",
    "train_labels = train_full[\"target\"]\n",
    "\n",
    "test_text = test_full[\"text\"]\n",
    "test_labels = test_full[\"text\"]"
   ]
  },
  {
   "cell_type": "markdown",
   "id": "94ed7ea0",
   "metadata": {
    "papermill": {
     "duration": 0.00457,
     "end_time": "2022-05-27T17:47:06.920051",
     "exception": false,
     "start_time": "2022-05-27T17:47:06.915481",
     "status": "completed"
    },
    "tags": []
   },
   "source": [
    "Now that our data has been loaded, let's take a quick look at some tweet examples. We'll investigate a random sample of the training data to see what a disaster-related tweet looks like as well as a non-disaster-related tweet."
   ]
  },
  {
   "cell_type": "code",
   "execution_count": 3,
   "id": "3593c57c",
   "metadata": {
    "execution": {
     "iopub.execute_input": "2022-05-27T17:47:06.931551Z",
     "iopub.status.busy": "2022-05-27T17:47:06.930865Z",
     "iopub.status.idle": "2022-05-27T17:47:06.938792Z",
     "shell.execute_reply": "2022-05-27T17:47:06.937908Z"
    },
    "papermill": {
     "duration": 0.016485,
     "end_time": "2022-05-27T17:47:06.941364",
     "exception": false,
     "start_time": "2022-05-27T17:47:06.924879",
     "status": "completed"
    },
    "tags": []
   },
   "outputs": [
    {
     "name": "stdout",
     "output_type": "stream",
     "text": [
      "Example training data observations\n",
      "---------------\n",
      "\n",
      "Tweet classifier: Non-disaster\n",
      "Tweet: Building the perfect tracklist to life leave the streets ablaze \n",
      "\n",
      "Tweet classifier: Disaster\n",
      "Tweet: How the West was burned: Thousands of wildfires ablaze in #California alone http://t.co/iCSjGZ9tE1 #climate #energy http://t.co/9FxmN0l0Bd \n",
      "\n",
      "Tweet classifier: Disaster\n",
      "Tweet: Barbados #Bridgetown JAMAICA ÛÒ Two cars set ablaze: SANTA CRUZ ÛÓ Head of the St Elizabeth Police Superintende...  http://t.co/wDUEaj8Q4J \n",
      "\n",
      "Tweet classifier: Disaster\n",
      "Tweet: RT nAAYf: First accident in years. Turning onto Chandanee Magu from near MMA. Taxi rammed into me while I was halfway turned. Everyone confÛ_ \n",
      "\n",
      "Tweet classifier: Non-disaster\n",
      "Tweet: First night with retainers in. It's quite weird. Better get used to it; I have to wear them every single night for the next year at least. \n",
      "\n",
      "Tweet classifier: Non-disaster\n",
      "Tweet: #stlouis #caraccidentlawyer Speeding Among Top Causes of Teen Accidents https://t.co/k4zoMOF319 https://t.co/S2kXVM0cBA Car Accident teeÛ_ \n",
      "\n",
      "Tweet classifier: Non-disaster\n",
      "Tweet: Do you like pasta? \n",
      "\n",
      "Tweet classifier: Non-disaster\n",
      "Tweet: Ablaze for you Lord :D \n",
      "\n",
      "Tweet classifier: Disaster\n",
      "Tweet: ;ACCIDENT PROPERTY DAMAGE; PINER RD/HORNDALE DR \n",
      "\n",
      "Tweet classifier: Disaster\n",
      "Tweet: How the West was burned: Thousands of wildfires ablaze in California alone http://t.co/vl5TBR3wbr \n",
      "\n"
     ]
    }
   ],
   "source": [
    "# Print sample observations from training data\n",
    "print(\"Example training data observations\")\n",
    "print(\"---------------\\n\")\n",
    "np.random.seed(777)\n",
    "for i in np.random.randint(0, high = 100, size = 10):\n",
    "    tweet_type = \"Disaster\" if train_labels[i] == 1 else \"Non-disaster\"\n",
    "    print(\"Tweet classifier:\", tweet_type)\n",
    "    print(\"Tweet:\", train_text[i], \"\\n\")"
   ]
  },
  {
   "cell_type": "markdown",
   "id": "23133474",
   "metadata": {
    "papermill": {
     "duration": 0.004763,
     "end_time": "2022-05-27T17:47:06.952350",
     "exception": false,
     "start_time": "2022-05-27T17:47:06.947587",
     "status": "completed"
    },
    "tags": []
   },
   "source": [
    "Great! This printout gives us good insight into how the tweets may vary in their wording, but also how certain words may appear to be disaster related, but also come up in non-disaster tweets. For example, the 8th tweet listed above contains the word \"ablaze\". This would typically be associated with a disaster related tweet talking about a fire. However, here we see it being used in a non-disaster tweet. This sort of occurance is an obstacle in predicting the tweets sentiment, and represents just one type of challenge faced when performing NLP.\n",
    "\n",
    "Other observations:\n",
    "- Many of the tweets contain links to images, something to consider when cleaning the text\n",
    "- There are a couple unusual characters in the tweet, such as \"ÛÒ\" and \"Û_\"\n",
    "- Hashtags may need to get cleaned out to ensure the words following the tag are read properly"
   ]
  },
  {
   "cell_type": "markdown",
   "id": "e89311d7",
   "metadata": {
    "papermill": {
     "duration": 0.004638,
     "end_time": "2022-05-27T17:47:06.961968",
     "exception": false,
     "start_time": "2022-05-27T17:47:06.957330",
     "status": "completed"
    },
    "tags": []
   },
   "source": [
    "# Cleaning the data\n",
    "\n",
    "Before we transform the text data into a numerical representation, we first want to clean the text to be as consistent and easy to transform as possible. That means unifying words with various capitalization, removing symbols such as hashtags to ensure those words are grouped properly, and parsing links to images in a way that preserves the information's integrity. "
   ]
  },
  {
   "cell_type": "code",
   "execution_count": 4,
   "id": "2c7d280e",
   "metadata": {
    "execution": {
     "iopub.execute_input": "2022-05-27T17:47:06.973772Z",
     "iopub.status.busy": "2022-05-27T17:47:06.973079Z",
     "iopub.status.idle": "2022-05-27T17:47:06.986279Z",
     "shell.execute_reply": "2022-05-27T17:47:06.985541Z"
    },
    "papermill": {
     "duration": 0.021515,
     "end_time": "2022-05-27T17:47:06.988345",
     "exception": false,
     "start_time": "2022-05-27T17:47:06.966830",
     "status": "completed"
    },
    "tags": []
   },
   "outputs": [],
   "source": [
    "# Transforming all text to lowercase\n",
    "train_text = train_text.str.lower()\n",
    "test_text = test_text.str.lower()"
   ]
  },
  {
   "cell_type": "code",
   "execution_count": 5,
   "id": "b3d74e5b",
   "metadata": {
    "execution": {
     "iopub.execute_input": "2022-05-27T17:47:06.999828Z",
     "iopub.status.busy": "2022-05-27T17:47:06.999435Z",
     "iopub.status.idle": "2022-05-27T17:47:07.142682Z",
     "shell.execute_reply": "2022-05-27T17:47:07.141683Z"
    },
    "papermill": {
     "duration": 0.151565,
     "end_time": "2022-05-27T17:47:07.145053",
     "exception": false,
     "start_time": "2022-05-27T17:47:06.993488",
     "status": "completed"
    },
    "tags": []
   },
   "outputs": [],
   "source": [
    "# Removing unicode characters\n",
    "for i in range(train_text.shape[0]):\n",
    "    train_text[i] = train_text[i].encode(\"ascii\", \"ignore\").decode()\n",
    "\n",
    "for i in range(test_text.shape[0]):\n",
    "    test_text[i] = test_text[i].encode(\"ascii\", \"ignore\").decode()"
   ]
  },
  {
   "cell_type": "code",
   "execution_count": 6,
   "id": "711a9eeb",
   "metadata": {
    "execution": {
     "iopub.execute_input": "2022-05-27T17:47:07.157259Z",
     "iopub.status.busy": "2022-05-27T17:47:07.156538Z",
     "iopub.status.idle": "2022-05-27T17:47:07.171774Z",
     "shell.execute_reply": "2022-05-27T17:47:07.170918Z"
    },
    "papermill": {
     "duration": 0.023665,
     "end_time": "2022-05-27T17:47:07.173911",
     "exception": false,
     "start_time": "2022-05-27T17:47:07.150246",
     "status": "completed"
    },
    "tags": []
   },
   "outputs": [],
   "source": [
    "# Creating a function that will clean the list of strings\n",
    "stop_words = stopwords.words(\"english\")\n",
    "\n",
    "def text_preprocess(x):\n",
    "    x = x.lower()\n",
    "    x = \" \".join([word for word in x.split(\" \") if word not in stop_words])\n",
    "    x = x.encode(\"ascii\", \"ignore\").decode()\n",
    "    x = re.sub(r\"@\\S+\", \" \", x)\n",
    "    x = re.sub(r\"#\\S+\", \" \", x)\n",
    "    x = re.sub(r\"\\'\\w+\", \"\", x)\n",
    "    x = re.sub('[%s]' % re.escape(string.punctuation), \" \", x)\n",
    "    x = re.sub(r\"\\w*\\d+\\w*\", \"\", x)\n",
    "    x = re.sub(r\"\\s{2,}\", \" \", x)\n",
    "    return x"
   ]
  },
  {
   "cell_type": "code",
   "execution_count": 7,
   "id": "d2a79980",
   "metadata": {
    "execution": {
     "iopub.execute_input": "2022-05-27T17:47:07.186431Z",
     "iopub.status.busy": "2022-05-27T17:47:07.185639Z",
     "iopub.status.idle": "2022-05-27T17:47:07.905040Z",
     "shell.execute_reply": "2022-05-27T17:47:07.904004Z"
    },
    "papermill": {
     "duration": 0.728065,
     "end_time": "2022-05-27T17:47:07.907440",
     "exception": false,
     "start_time": "2022-05-27T17:47:07.179375",
     "status": "completed"
    },
    "tags": []
   },
   "outputs": [],
   "source": [
    "train_text = train_text.apply(text_preprocess)\n",
    "test_text = test_text.apply(text_preprocess)"
   ]
  },
  {
   "cell_type": "markdown",
   "id": "60721b7f",
   "metadata": {
    "papermill": {
     "duration": 0.004867,
     "end_time": "2022-05-27T17:47:07.917612",
     "exception": false,
     "start_time": "2022-05-27T17:47:07.912745",
     "status": "completed"
    },
    "tags": []
   },
   "source": [
    "Now that we have applied the preprocessing function to the text, let's take a look at how our tweets have changed."
   ]
  },
  {
   "cell_type": "code",
   "execution_count": 8,
   "id": "ec6ff8f5",
   "metadata": {
    "execution": {
     "iopub.execute_input": "2022-05-27T17:47:07.929443Z",
     "iopub.status.busy": "2022-05-27T17:47:07.929074Z",
     "iopub.status.idle": "2022-05-27T17:47:07.936651Z",
     "shell.execute_reply": "2022-05-27T17:47:07.935543Z"
    },
    "papermill": {
     "duration": 0.01652,
     "end_time": "2022-05-27T17:47:07.939349",
     "exception": false,
     "start_time": "2022-05-27T17:47:07.922829",
     "status": "completed"
    },
    "tags": []
   },
   "outputs": [
    {
     "name": "stdout",
     "output_type": "stream",
     "text": [
      "Example cleaned training data observations\n",
      "---------------\n",
      "\n",
      "Tweet classifier: Non-disaster\n",
      "Tweet: building perfect tracklist life leave streets ablaze \n",
      "\n",
      "Tweet classifier: Disaster\n",
      "Tweet: west burned thousands wildfires ablaze alone http t co http t co  \n",
      "\n",
      "Tweet classifier: Disaster\n",
      "Tweet: barbados jamaica two cars set ablaze santa cruz head st elizabeth police superintende http t co  \n",
      "\n",
      "Tweet classifier: Disaster\n",
      "Tweet: rt naayf first accident years turning onto chandanee magu near mma taxi rammed halfway turned everyone conf  \n",
      "\n",
      "Tweet classifier: Non-disaster\n",
      "Tweet: first night retainers in quite weird better get used it wear every single night next year least  \n",
      "\n",
      "Tweet classifier: Non-disaster\n",
      "Tweet:  speeding among top causes teen accidents https t co https t co car accident tee  \n",
      "\n",
      "Tweet classifier: Non-disaster\n",
      "Tweet: like pasta  \n",
      "\n",
      "Tweet classifier: Non-disaster\n",
      "Tweet: ablaze lord d \n",
      "\n",
      "Tweet classifier: Disaster\n",
      "Tweet:  accident property damage piner rd horndale dr \n",
      "\n",
      "Tweet classifier: Disaster\n",
      "Tweet: west burned thousands wildfires ablaze california alone http t co  \n",
      "\n"
     ]
    }
   ],
   "source": [
    "# Print cleaned text examples from training set\n",
    "print(\"Example cleaned training data observations\")\n",
    "print(\"---------------\\n\")\n",
    "np.random.seed(777)\n",
    "for i in np.random.randint(0, high = 100, size = 10):\n",
    "    tweet_type = \"Disaster\" if train_labels[i] == 1 else \"Non-disaster\"\n",
    "    print(\"Tweet classifier:\", tweet_type)\n",
    "    print(\"Tweet:\", train_text[i], \"\\n\")"
   ]
  },
  {
   "cell_type": "markdown",
   "id": "15d3544c",
   "metadata": {
    "papermill": {
     "duration": 0.005047,
     "end_time": "2022-05-27T17:47:07.949730",
     "exception": false,
     "start_time": "2022-05-27T17:47:07.944683",
     "status": "completed"
    },
    "tags": []
   },
   "source": [
    "We can see that the tweets are much more uniform in their formatting now. No more unusual characters or capitalization discrepencies.\n",
    "\n",
    "It is important to note that we left in the \"https\" tag in hopes that doing so would preserve some information that the tag may hold. To investigate if we still think this is the right call, let's take a look at the number of disaster tweets containing \"https\" versus non-disaster tweets that also contain the string."
   ]
  },
  {
   "cell_type": "code",
   "execution_count": 9,
   "id": "24240d65",
   "metadata": {
    "execution": {
     "iopub.execute_input": "2022-05-27T17:47:07.961961Z",
     "iopub.status.busy": "2022-05-27T17:47:07.961200Z",
     "iopub.status.idle": "2022-05-27T17:47:08.186926Z",
     "shell.execute_reply": "2022-05-27T17:47:08.185966Z"
    },
    "papermill": {
     "duration": 0.234213,
     "end_time": "2022-05-27T17:47:08.189077",
     "exception": false,
     "start_time": "2022-05-27T17:47:07.954864",
     "status": "completed"
    },
    "tags": []
   },
   "outputs": [
    {
     "data": {
      "text/plain": [
       "<AxesSubplot:>"
      ]
     },
     "execution_count": 9,
     "metadata": {},
     "output_type": "execute_result"
    },
    {
     "data": {
      "image/png": "[encoded data removed]",
      "text/plain": [
       "<Figure size 432x288 with 1 Axes>"
      ]
     },
     "metadata": {
      "needs_background": "light"
     },
     "output_type": "display_data"
    }
   ],
   "source": [
    "# Exploring counts of https string\n",
    "train_labels[train_text.str.contains(\"https | http\")]\\\n",
    ".value_counts().sort_index().plot.bar(x = \"Target Value\", y = \"Number of Occurences\")"
   ]
  },
  {
   "cell_type": "markdown",
   "id": "cf8f06b7",
   "metadata": {
    "papermill": {
     "duration": 0.005229,
     "end_time": "2022-05-27T17:47:08.199956",
     "exception": false,
     "start_time": "2022-05-27T17:47:08.194727",
     "status": "completed"
    },
    "tags": []
   },
   "source": [
    "This simple bar chart tells us that if a tweet contains the \"https\" or \"http\" string, it is slightly more likely that the tweet in question is a disaster related tweet. This seems useful, so we will keep the strings in there rather than filter them out."
   ]
  },
  {
   "cell_type": "markdown",
   "id": "d5ad48eb",
   "metadata": {
    "papermill": {
     "duration": 0.005153,
     "end_time": "2022-05-27T17:47:08.210523",
     "exception": false,
     "start_time": "2022-05-27T17:47:08.205370",
     "status": "completed"
    },
    "tags": []
   },
   "source": [
    "# Text to Numeric Transformation"
   ]
  }
 ],
 "metadata": {
  "kernelspec": {
   "display_name": "Python 3",
   "language": "python",
   "name": "python3"
  },
  "language_info": {
   "codemirror_mode": {
    "name": "ipython",
    "version": 3
   },
   "file_extension": ".py",
   "mimetype": "text/x-python",
   "name": "python",
   "nbconvert_exporter": "python",
   "pygments_lexer": "ipython3",
   "version": "3.7.12"
  },
  "papermill": {
   "default_parameters": {},
   "duration": 21.645281,
   "end_time": "2022-05-27T17:47:11.299171",
   "environment_variables": {},
   "exception": null,
   "input_path": "__notebook__.ipynb",
   "output_path": "__notebook__.ipynb",
   "parameters": {},
   "start_time": "2022-05-27T17:46:49.653890",
   "version": "2.3.4"
  }
 },
 "nbformat": 4,
 "nbformat_minor": 5
}
