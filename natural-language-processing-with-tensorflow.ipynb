{
 "cells": [
  {
   "cell_type": "markdown",
   "id": "ac2c7bfc",
   "metadata": {
    "_cell_guid": "b1076dfc-b9ad-4769-8c92-a6c4dae69d19",
    "_uuid": "8f2839f25d086af736a60e9eeb907d3b93b6e0e5",
    "papermill": {
     "duration": 0.010719,
     "end_time": "2022-05-28T00:10:27.592040",
     "exception": false,
     "start_time": "2022-05-28T00:10:27.581321",
     "status": "completed"
    },
    "tags": []
   },
   "source": [
    "# Natural Language Processing with TensorFlow\n",
    "\n",
    "**In this notebook I will be using TensorFlow to process tweets and predict whether they pertain to a disaster or not.**\n",
    "\n",
    "---\n",
    "\n",
    "**Notes**  \n",
    "\n",
    "- This notebook was created using the guide found [here](https://www.kaggle.com/code/calebreigada/tensorflow-natural-language-processing-guide/notebook). \n",
    "- I do not take any credit for the methods displayed, as I am following a guide and simply applying the techniques there to a different set of data.\n",
    "- As suggested in the guide linked, prior research was done on unfamiliar topics to help understand the work flow better. I am certainly not an expert in this topic and am still learning.\n",
    "\n",
    "---\n"
   ]
  },
  {
   "cell_type": "markdown",
   "id": "4773f0e5",
   "metadata": {
    "papermill": {
     "duration": 0.006831,
     "end_time": "2022-05-28T00:10:27.606308",
     "exception": false,
     "start_time": "2022-05-28T00:10:27.599477",
     "status": "completed"
    },
    "tags": []
   },
   "source": [
    "# Loading the Data\n",
    "\n",
    "For this notebook, I will be using the [Natural Language Processing with Disaster Tweets](https://www.kaggle.com/competitions/nlp-getting-started) dataset. This set is a great way to get started with NLP models and applications, and understand how machine learning algorithms can be used on non-numeric data through data transformations.  \n",
    "\n",
    "The dataset contains tweets that fall into one of two conditions: either they are discussing a real life disaster, or they are not. This may seem like a fairly easy thing to discern, but as listed on the dataset's page, there are instances where based on wording alone, it can be difficult to identify the correct category. "
   ]
  },
  {
   "cell_type": "code",
   "execution_count": 1,
   "id": "e8d96e1d",
   "metadata": {
    "execution": {
     "iopub.execute_input": "2022-05-28T00:10:27.622856Z",
     "iopub.status.busy": "2022-05-28T00:10:27.622258Z",
     "iopub.status.idle": "2022-05-28T00:10:35.225814Z",
     "shell.execute_reply": "2022-05-28T00:10:35.224720Z"
    },
    "papermill": {
     "duration": 7.615064,
     "end_time": "2022-05-28T00:10:35.228589",
     "exception": false,
     "start_time": "2022-05-28T00:10:27.613525",
     "status": "completed"
    },
    "tags": []
   },
   "outputs": [],
   "source": [
    "# Importing libraries\n",
    "import tensorflow as tf\n",
    "import numpy as np\n",
    "import matplotlib.pyplot as plt\n",
    "import pandas as pd\n",
    "import nltk\n",
    "import re\n",
    "import string\n",
    "from nltk.corpus import stopwords"
   ]
  },
  {
   "cell_type": "code",
   "execution_count": 2,
   "id": "49d9277a",
   "metadata": {
    "execution": {
     "iopub.execute_input": "2022-05-28T00:10:35.244911Z",
     "iopub.status.busy": "2022-05-28T00:10:35.244249Z",
     "iopub.status.idle": "2022-05-28T00:10:35.322527Z",
     "shell.execute_reply": "2022-05-28T00:10:35.321565Z"
    },
    "papermill": {
     "duration": 0.089087,
     "end_time": "2022-05-28T00:10:35.325011",
     "exception": false,
     "start_time": "2022-05-28T00:10:35.235924",
     "status": "completed"
    },
    "tags": []
   },
   "outputs": [],
   "source": [
    "# Reading in data\n",
    "train_full = pd.read_csv(\"../input/nlp-getting-started/train.csv\")\n",
    "test_full = pd.read_csv(\"../input/nlp-getting-started/test.csv\")\n",
    "\n",
    "train_text = train_full[\"text\"]\n",
    "train_labels = train_full[\"target\"]\n",
    "\n",
    "test_text = test_full[\"text\"]"
   ]
  },
  {
   "cell_type": "markdown",
   "id": "e80006c3",
   "metadata": {
    "papermill": {
     "duration": 0.007434,
     "end_time": "2022-05-28T00:10:35.339588",
     "exception": false,
     "start_time": "2022-05-28T00:10:35.332154",
     "status": "completed"
    },
    "tags": []
   },
   "source": [
    "Now that our data has been loaded, let's take a quick look at some tweet examples. We'll investigate a random sample of the training data to see what a disaster-related tweet looks like as well as a non-disaster-related tweet."
   ]
  },
  {
   "cell_type": "code",
   "execution_count": 3,
   "id": "58ee10d5",
   "metadata": {
    "execution": {
     "iopub.execute_input": "2022-05-28T00:10:35.356223Z",
     "iopub.status.busy": "2022-05-28T00:10:35.355198Z",
     "iopub.status.idle": "2022-05-28T00:10:35.363710Z",
     "shell.execute_reply": "2022-05-28T00:10:35.363036Z"
    },
    "papermill": {
     "duration": 0.019598,
     "end_time": "2022-05-28T00:10:35.366395",
     "exception": false,
     "start_time": "2022-05-28T00:10:35.346797",
     "status": "completed"
    },
    "tags": []
   },
   "outputs": [
    {
     "name": "stdout",
     "output_type": "stream",
     "text": [
      "Example training data observations\n",
      "---------------\n",
      "\n",
      "Tweet classifier: Non-disaster\n",
      "Tweet: Building the perfect tracklist to life leave the streets ablaze \n",
      "\n",
      "Tweet classifier: Disaster\n",
      "Tweet: How the West was burned: Thousands of wildfires ablaze in #California alone http://t.co/iCSjGZ9tE1 #climate #energy http://t.co/9FxmN0l0Bd \n",
      "\n",
      "Tweet classifier: Disaster\n",
      "Tweet: Barbados #Bridgetown JAMAICA ÛÒ Two cars set ablaze: SANTA CRUZ ÛÓ Head of the St Elizabeth Police Superintende...  http://t.co/wDUEaj8Q4J \n",
      "\n",
      "Tweet classifier: Disaster\n",
      "Tweet: RT nAAYf: First accident in years. Turning onto Chandanee Magu from near MMA. Taxi rammed into me while I was halfway turned. Everyone confÛ_ \n",
      "\n",
      "Tweet classifier: Non-disaster\n",
      "Tweet: First night with retainers in. It's quite weird. Better get used to it; I have to wear them every single night for the next year at least. \n",
      "\n",
      "Tweet classifier: Non-disaster\n",
      "Tweet: #stlouis #caraccidentlawyer Speeding Among Top Causes of Teen Accidents https://t.co/k4zoMOF319 https://t.co/S2kXVM0cBA Car Accident teeÛ_ \n",
      "\n",
      "Tweet classifier: Non-disaster\n",
      "Tweet: Do you like pasta? \n",
      "\n",
      "Tweet classifier: Non-disaster\n",
      "Tweet: Ablaze for you Lord :D \n",
      "\n",
      "Tweet classifier: Disaster\n",
      "Tweet: ;ACCIDENT PROPERTY DAMAGE; PINER RD/HORNDALE DR \n",
      "\n",
      "Tweet classifier: Disaster\n",
      "Tweet: How the West was burned: Thousands of wildfires ablaze in California alone http://t.co/vl5TBR3wbr \n",
      "\n"
     ]
    }
   ],
   "source": [
    "# Print sample observations from training data\n",
    "print(\"Example training data observations\")\n",
    "print(\"---------------\\n\")\n",
    "np.random.seed(777)\n",
    "for i in np.random.randint(0, high = 100, size = 10):\n",
    "    tweet_type = \"Disaster\" if train_labels[i] == 1 else \"Non-disaster\"\n",
    "    print(\"Tweet classifier:\", tweet_type)\n",
    "    print(\"Tweet:\", train_text[i], \"\\n\")"
   ]
  },
  {
   "cell_type": "markdown",
   "id": "009bc1df",
   "metadata": {
    "papermill": {
     "duration": 0.006854,
     "end_time": "2022-05-28T00:10:35.380667",
     "exception": false,
     "start_time": "2022-05-28T00:10:35.373813",
     "status": "completed"
    },
    "tags": []
   },
   "source": [
    "Great! This printout gives us good insight into how the tweets may vary in their wording, but also how certain words may appear to be disaster related, but also come up in non-disaster tweets. For example, the 8th tweet listed above contains the word \"ablaze\". This would typically be associated with a disaster related tweet talking about a fire. However, here we see it being used in a non-disaster tweet. This sort of occurance is an obstacle in predicting the tweets sentiment, and represents just one type of challenge faced when performing NLP.\n",
    "\n",
    "Other observations:\n",
    "- Many of the tweets contain links to images, something to consider when cleaning the text\n",
    "- There are a couple unusual characters in the tweet, such as \"ÛÒ\" and \"Û_\"\n",
    "- Hashtags may need to get cleaned out to ensure the words following the tag are read properly"
   ]
  },
  {
   "cell_type": "markdown",
   "id": "1bbf7bd0",
   "metadata": {
    "papermill": {
     "duration": 0.006822,
     "end_time": "2022-05-28T00:10:35.394504",
     "exception": false,
     "start_time": "2022-05-28T00:10:35.387682",
     "status": "completed"
    },
    "tags": []
   },
   "source": [
    "# Cleaning the data\n",
    "\n",
    "Before we transform the text data into a numerical representation, we first want to clean the text to be as consistent and easy to transform as possible. That means unifying words with various capitalization, removing symbols such as hashtags to ensure those words are grouped properly, and parsing links to images in a way that preserves the information's integrity. "
   ]
  },
  {
   "cell_type": "code",
   "execution_count": 4,
   "id": "b796e042",
   "metadata": {
    "execution": {
     "iopub.execute_input": "2022-05-28T00:10:35.409834Z",
     "iopub.status.busy": "2022-05-28T00:10:35.409459Z",
     "iopub.status.idle": "2022-05-28T00:10:35.425090Z",
     "shell.execute_reply": "2022-05-28T00:10:35.424297Z"
    },
    "papermill": {
     "duration": 0.025804,
     "end_time": "2022-05-28T00:10:35.427314",
     "exception": false,
     "start_time": "2022-05-28T00:10:35.401510",
     "status": "completed"
    },
    "tags": []
   },
   "outputs": [],
   "source": [
    "# Creating a function that will clean the list of strings\n",
    "stop_words = stopwords.words(\"english\")\n",
    "\n",
    "def text_preprocess(x):\n",
    "    x = x.lower()\n",
    "    x = \" \".join([word for word in x.split(\" \") if word not in stop_words])\n",
    "    x = x.encode(\"ascii\", \"ignore\").decode()\n",
    "    x = re.sub(r\"@\\S+\", \" \", x)\n",
    "    x = re.sub(r\"#\\S+\", \" \", x)\n",
    "    x = re.sub(r\"\\'\\w+\", \"\", x)\n",
    "    x = re.sub('[%s]' % re.escape(string.punctuation), \" \", x)\n",
    "    x = re.sub(r\"\\w*\\d+\\w*\", \"\", x)\n",
    "    x = re.sub(r\"\\s{2,}\", \" \", x)\n",
    "    return x"
   ]
  },
  {
   "cell_type": "code",
   "execution_count": 5,
   "id": "3aad3335",
   "metadata": {
    "execution": {
     "iopub.execute_input": "2022-05-28T00:10:35.443603Z",
     "iopub.status.busy": "2022-05-28T00:10:35.443187Z",
     "iopub.status.idle": "2022-05-28T00:10:36.173970Z",
     "shell.execute_reply": "2022-05-28T00:10:36.172816Z"
    },
    "papermill": {
     "duration": 0.741947,
     "end_time": "2022-05-28T00:10:36.176588",
     "exception": false,
     "start_time": "2022-05-28T00:10:35.434641",
     "status": "completed"
    },
    "tags": []
   },
   "outputs": [],
   "source": [
    "train_text = train_text.apply(text_preprocess)\n",
    "test_text = test_text.apply(text_preprocess)"
   ]
  },
  {
   "cell_type": "markdown",
   "id": "5ab54767",
   "metadata": {
    "papermill": {
     "duration": 0.006806,
     "end_time": "2022-05-28T00:10:36.191110",
     "exception": false,
     "start_time": "2022-05-28T00:10:36.184304",
     "status": "completed"
    },
    "tags": []
   },
   "source": [
    "Now that we have applied the preprocessing function to the text, let's take a look at how our tweets have changed."
   ]
  },
  {
   "cell_type": "code",
   "execution_count": 6,
   "id": "f7fbc605",
   "metadata": {
    "execution": {
     "iopub.execute_input": "2022-05-28T00:10:36.207317Z",
     "iopub.status.busy": "2022-05-28T00:10:36.206868Z",
     "iopub.status.idle": "2022-05-28T00:10:36.214304Z",
     "shell.execute_reply": "2022-05-28T00:10:36.213481Z"
    },
    "papermill": {
     "duration": 0.019015,
     "end_time": "2022-05-28T00:10:36.217384",
     "exception": false,
     "start_time": "2022-05-28T00:10:36.198369",
     "status": "completed"
    },
    "tags": []
   },
   "outputs": [
    {
     "name": "stdout",
     "output_type": "stream",
     "text": [
      "Example cleaned training data observations\n",
      "---------------\n",
      "\n",
      "Tweet classifier: Non-disaster\n",
      "Tweet: building perfect tracklist life leave streets ablaze \n",
      "\n",
      "Tweet classifier: Disaster\n",
      "Tweet: west burned thousands wildfires ablaze alone http t co http t co  \n",
      "\n",
      "Tweet classifier: Disaster\n",
      "Tweet: barbados jamaica two cars set ablaze santa cruz head st elizabeth police superintende http t co  \n",
      "\n",
      "Tweet classifier: Disaster\n",
      "Tweet: rt naayf first accident years turning onto chandanee magu near mma taxi rammed halfway turned everyone conf  \n",
      "\n",
      "Tweet classifier: Non-disaster\n",
      "Tweet: first night retainers in quite weird better get used it wear every single night next year least  \n",
      "\n",
      "Tweet classifier: Non-disaster\n",
      "Tweet:  speeding among top causes teen accidents https t co https t co car accident tee  \n",
      "\n",
      "Tweet classifier: Non-disaster\n",
      "Tweet: like pasta  \n",
      "\n",
      "Tweet classifier: Non-disaster\n",
      "Tweet: ablaze lord d \n",
      "\n",
      "Tweet classifier: Disaster\n",
      "Tweet:  accident property damage piner rd horndale dr \n",
      "\n",
      "Tweet classifier: Disaster\n",
      "Tweet: west burned thousands wildfires ablaze california alone http t co  \n",
      "\n"
     ]
    }
   ],
   "source": [
    "# Print cleaned text examples from training set\n",
    "print(\"Example cleaned training data observations\")\n",
    "print(\"---------------\\n\")\n",
    "np.random.seed(777)\n",
    "for i in np.random.randint(0, high = 100, size = 10):\n",
    "    tweet_type = \"Disaster\" if train_labels[i] == 1 else \"Non-disaster\"\n",
    "    print(\"Tweet classifier:\", tweet_type)\n",
    "    print(\"Tweet:\", train_text[i], \"\\n\")"
   ]
  },
  {
   "cell_type": "markdown",
   "id": "e3781394",
   "metadata": {
    "papermill": {
     "duration": 0.00732,
     "end_time": "2022-05-28T00:10:36.233180",
     "exception": false,
     "start_time": "2022-05-28T00:10:36.225860",
     "status": "completed"
    },
    "tags": []
   },
   "source": [
    "We can see that the tweets are much more uniform in their formatting now. No more unusual characters or capitalization discrepencies.\n",
    "\n",
    "It is important to note that we left in the \"https\" tag in hopes that doing so would preserve some information that the tag may hold. To investigate if we still think this is the right call, let's take a look at the number of disaster tweets containing \"https\" versus non-disaster tweets that also contain the string."
   ]
  },
  {
   "cell_type": "code",
   "execution_count": 7,
   "id": "b4becf81",
   "metadata": {
    "execution": {
     "iopub.execute_input": "2022-05-28T00:10:36.249938Z",
     "iopub.status.busy": "2022-05-28T00:10:36.249245Z",
     "iopub.status.idle": "2022-05-28T00:10:36.493110Z",
     "shell.execute_reply": "2022-05-28T00:10:36.491888Z"
    },
    "papermill": {
     "duration": 0.25536,
     "end_time": "2022-05-28T00:10:36.495884",
     "exception": false,
     "start_time": "2022-05-28T00:10:36.240524",
     "status": "completed"
    },
    "tags": []
   },
   "outputs": [
    {
     "data": {
      "text/plain": [
       "<AxesSubplot:>"
      ]
     },
     "execution_count": 7,
     "metadata": {},
     "output_type": "execute_result"
    },
    {
     "data": {
      "image/png": "[encoded data removed]",
      "text/plain": [
       "<Figure size 432x288 with 1 Axes>"
      ]
     },
     "metadata": {
      "needs_background": "light"
     },
     "output_type": "display_data"
    }
   ],
   "source": [
    "# Exploring counts of https string\n",
    "train_labels[train_text.str.contains(\"https | http\")]\\\n",
    ".value_counts().sort_index().plot.bar(x = \"Target Value\", y = \"Number of Occurences\")"
   ]
  },
  {
   "cell_type": "markdown",
   "id": "10c21faa",
   "metadata": {
    "papermill": {
     "duration": 0.007581,
     "end_time": "2022-05-28T00:10:36.511233",
     "exception": false,
     "start_time": "2022-05-28T00:10:36.503652",
     "status": "completed"
    },
    "tags": []
   },
   "source": [
    "This simple bar chart tells us that if a tweet contains the \"https\" or \"http\" string, it is slightly more likely that the tweet in question is a disaster related tweet. This seems useful, so we will keep the strings in there rather than filter them out."
   ]
  },
  {
   "cell_type": "markdown",
   "id": "eff4adf5",
   "metadata": {
    "papermill": {
     "duration": 0.00764,
     "end_time": "2022-05-28T00:10:36.526729",
     "exception": false,
     "start_time": "2022-05-28T00:10:36.519089",
     "status": "completed"
    },
    "tags": []
   },
   "source": [
    "# Text to Numeric Transformation\n",
    "\n",
    "Now that our data has been cleaned, we'll need to transform it to a numeric representation. We do this because while words have meaning to us, a computer would struggle to understand sentences the same way that a human does. We'll be using the `Tokenizer` class from TensorFlow to perform this transformation. This process maps each unique word to a number in a vector, effectively storing the frequency of certain words in each tweet."
   ]
  },
  {
   "cell_type": "code",
   "execution_count": 8,
   "id": "badaf800",
   "metadata": {
    "execution": {
     "iopub.execute_input": "2022-05-28T00:10:36.544394Z",
     "iopub.status.busy": "2022-05-28T00:10:36.543825Z",
     "iopub.status.idle": "2022-05-28T00:10:38.119149Z",
     "shell.execute_reply": "2022-05-28T00:10:38.118052Z"
    },
    "papermill": {
     "duration": 1.587091,
     "end_time": "2022-05-28T00:10:38.121658",
     "exception": false,
     "start_time": "2022-05-28T00:10:36.534567",
     "status": "completed"
    },
    "tags": []
   },
   "outputs": [],
   "source": [
    "from tensorflow.keras.preprocessing.text import Tokenizer\n",
    "from tensorflow.keras.preprocessing.sequence import pad_sequences\n",
    "\n",
    "# Creating the tokenizer\n",
    "tokenizer = Tokenizer(num_words = 10_000, oov_token = \"<OOV>\")\n",
    "tokenizer.fit_on_texts(train_text)\n",
    "\n",
    "# Creates sequences of word numeric representation\n",
    "training_seqs = tokenizer.texts_to_sequences(train_text)\n",
    "\n",
    "# Padding the sequences to all have the same length\n",
    "training_seqs = pad_sequences(training_seqs, maxlen = 140)\n",
    "\n",
    "testing_seqs = tokenizer.texts_to_sequences(test_text)\n",
    "testing_seqs = pad_sequences(testing_seqs, maxlen = 140)"
   ]
  },
  {
   "cell_type": "code",
   "execution_count": 9,
   "id": "cfdb307f",
   "metadata": {
    "execution": {
     "iopub.execute_input": "2022-05-28T00:10:38.139185Z",
     "iopub.status.busy": "2022-05-28T00:10:38.138730Z",
     "iopub.status.idle": "2022-05-28T00:10:38.149279Z",
     "shell.execute_reply": "2022-05-28T00:10:38.148025Z"
    },
    "papermill": {
     "duration": 0.023423,
     "end_time": "2022-05-28T00:10:38.153007",
     "exception": false,
     "start_time": "2022-05-28T00:10:38.129584",
     "status": "completed"
    },
    "tags": []
   },
   "outputs": [
    {
     "name": "stdout",
     "output_type": "stream",
     "text": [
      "Processed Tweet in numeric form\n",
      "---------------\n",
      "\n",
      "[   0    0    0    0    0    0    0    0    0    0    0    0    0    0\n",
      "    0    0    0    0    0    0    0    0    0    0    0    0    0    0\n",
      "    0    0    0    0    0    0    0    0    0    0    0    0    0    0\n",
      "    0    0    0    0    0    0    0    0    0    0    0    0    0    0\n",
      "    0    0    0    0    0    0    0    0    0    0    0    0    0    0\n",
      "    0    0    0    0    0    0    0    0    0    0    0    0    0    0\n",
      "    0    0    0    0    0    0    0    0    0    0    0    0    0    0\n",
      "    0    0    0    0    0    0    0    0    0    0    0    0    0    0\n",
      "    0    0    0    0    0    0    0    0    0    0    0    0    0    0\n",
      "    0    0    0    0    0    0    0    0 4034  709   62 2563 4035   28] \n",
      "\n",
      "[   0    0    0    0    0    0    0    0    0    0    0    0    0    0\n",
      "    0    0    0    0    0    0    0    0    0    0    0    0    0    0\n",
      "    0    0    0    0    0    0    0    0    0    0    0    0    0    0\n",
      "    0    0    0    0    0    0    0    0    0    0    0    0    0    0\n",
      "    0    0    0    0    0    0    0    0    0    0    0    0    0    0\n",
      "    0    0    0    0    0    0    0    0    0    0    0    0    0    0\n",
      "    0    0    0    0    0    0    0    0    0    0    0    0    0    0\n",
      "    0    0    0    0    0    0    0    0    0    0    0    0    0    0\n",
      "    0    0    0    0    0    0    0    0    0    0    0    0    0    0\n",
      "    0    0    0    0    0    0    0  107    9  134  680 5864 5865 1219] \n",
      "\n",
      "[   0    0    0    0    0    0    0    0    0    0    0    0    0    0\n",
      "    0    0    0    0    0    0    0    0    0    0    0    0    0    0\n",
      "    0    0    0    0    0    0    0    0    0    0    0    0    0    0\n",
      "    0    0    0    0    0    0    0    0    0    0    0    0    0    0\n",
      "    0    0    0    0    0    0    0    0    0    0    0    0    0    0\n",
      "    0    0    0    0    0    0    0    0    0    0    0    0    0    0\n",
      "    0    0    0    0    0    0    0    0    0    0    0    0    0    0\n",
      "    0    0    0    0    0    0    0    0    0    0    0    0    0    0\n",
      "    0    0    0    0    0    0    0    0    0    0    0    0    0    0\n",
      "    0    0    0    0 1536 1416  565 5866 1537  158 1899  565 1220  934] \n",
      "\n",
      "[   0    0    0    0    0    0    0    0    0    0    0    0    0    0\n",
      "    0    0    0    0    0    0    0    0    0    0    0    0    0    0\n",
      "    0    0    0    0    0    0    0    0    0    0    0    0    0    0\n",
      "    0    0    0    0    0    0    0    0    0    0    0    0    0    0\n",
      "    0    0    0    0    0    0    0    0    0    0    0    0    0    0\n",
      "    0    0    0    0    0    0    0    0    0    0    0    0    0    0\n",
      "    0    0    0    0    0    0    0    0    0    0    0    0    0    0\n",
      "    0    0    0    0    0    0    0    0    0    0    0    0    0    0\n",
      "    0    0    0    0    0    0    0    0    0    0    0    0    0    0\n",
      "    0    0    0    0    0    0    0    0    0   14 4036  158 1220   35] \n",
      "\n",
      "[   0    0    0    0    0    0    0    0    0    0    0    0    0    0\n",
      "    0    0    0    0    0    0    0    0    0    0    0    0    0    0\n",
      "    0    0    0    0    0    0    0    0    0    0    0    0    0    0\n",
      "    0    0    0    0    0    0    0    0    0    0    0    0    0    0\n",
      "    0    0    0    0    0    0    0    0    0    0    0    0    0    0\n",
      "    0    0    0    0    0    0    0    0    0    0    0    0    0    0\n",
      "    0    0    0    0    0    0    0    0    0    0    0    0    0    0\n",
      "    0    0    0    0    0    0    0    0    0    0    0    0    0    0\n",
      "    0    0    0    0    0    0    0    0    0    0    0    0    0    0\n",
      "    0    0    0    0    0    0    0   31 1048  264 5867  167 5868   98] \n",
      "\n"
     ]
    }
   ],
   "source": [
    "# Printing a sample of the new numeric representation for each tweet\n",
    "print(\"Processed Tweet in numeric form\")\n",
    "print(\"---------------\\n\")\n",
    "for i in range(5):\n",
    "    print(training_seqs[i], \"\\n\")"
   ]
  },
  {
   "cell_type": "markdown",
   "id": "49fb95d1",
   "metadata": {
    "papermill": {
     "duration": 0.007497,
     "end_time": "2022-05-28T00:10:38.168470",
     "exception": false,
     "start_time": "2022-05-28T00:10:38.160973",
     "status": "completed"
    },
    "tags": []
   },
   "source": [
    "# Creating Callbacks\n",
    "\n",
    "In TensorFlow, callbacks are used to allow the user to intervene during a model's training period. These may be used to check progress, edit processing flow to change the input data, or to set thresholds for when the model should stop training. We will be using a callback that we create to stop the model from training any further once it reaches 95% accuracy on the training data."
   ]
  },
  {
   "cell_type": "code",
   "execution_count": 10,
   "id": "5f4b800c",
   "metadata": {
    "execution": {
     "iopub.execute_input": "2022-05-28T00:10:38.185913Z",
     "iopub.status.busy": "2022-05-28T00:10:38.185547Z",
     "iopub.status.idle": "2022-05-28T00:10:38.191461Z",
     "shell.execute_reply": "2022-05-28T00:10:38.190661Z"
    },
    "papermill": {
     "duration": 0.017219,
     "end_time": "2022-05-28T00:10:38.193455",
     "exception": false,
     "start_time": "2022-05-28T00:10:38.176236",
     "status": "completed"
    },
    "tags": []
   },
   "outputs": [],
   "source": [
    "from tensorflow.keras.callbacks import Callback\n",
    "\n",
    "class CustomCallback(Callback):\n",
    "    def on_epoch_end(self, epoch, logs={}):\n",
    "        if logs.get(\"Accuracy\") > 0.95:\n",
    "            print(\"Accuracy >= 95%, training stopped.\")\n",
    "            self.model.stop_training = True\n",
    "            \n",
    "my_callback = CustomCallback()"
   ]
  },
  {
   "cell_type": "code",
   "execution_count": 11,
   "id": "2219ded4",
   "metadata": {
    "execution": {
     "iopub.execute_input": "2022-05-28T00:10:38.210333Z",
     "iopub.status.busy": "2022-05-28T00:10:38.209958Z",
     "iopub.status.idle": "2022-05-28T00:10:38.214757Z",
     "shell.execute_reply": "2022-05-28T00:10:38.214023Z"
    },
    "papermill": {
     "duration": 0.015486,
     "end_time": "2022-05-28T00:10:38.216567",
     "exception": false,
     "start_time": "2022-05-28T00:10:38.201081",
     "status": "completed"
    },
    "tags": []
   },
   "outputs": [],
   "source": [
    "# dynamically update learning rate based on epoch number\n",
    "from tensorflow.keras.callbacks import LearningRateScheduler\n",
    "\n",
    "def scheduler(epoch, lr):\n",
    "    if epoch > 2:\n",
    "        return 0.01\n",
    "    else:\n",
    "        return lr * 0.99\n",
    "    \n",
    "lr_scheduler = LearningRateScheduler(scheduler)"
   ]
  },
  {
   "cell_type": "markdown",
   "id": "30fac4c5",
   "metadata": {
    "papermill": {
     "duration": 0.007404,
     "end_time": "2022-05-28T00:10:38.231620",
     "exception": false,
     "start_time": "2022-05-28T00:10:38.224216",
     "status": "completed"
    },
    "tags": []
   },
   "source": [
    "# Crafting the Neural Network\n",
    "\n",
    "We will now be creating a neural network that takes the processed tweet and outputs a prediction of 1 if the tweet is about a real disaster, or 0 if the tweet does not pertain to a real disaster. "
   ]
  },
  {
   "cell_type": "code",
   "execution_count": 12,
   "id": "2ba35c3a",
   "metadata": {
    "execution": {
     "iopub.execute_input": "2022-05-28T00:10:38.248617Z",
     "iopub.status.busy": "2022-05-28T00:10:38.248095Z",
     "iopub.status.idle": "2022-05-28T00:10:38.936615Z",
     "shell.execute_reply": "2022-05-28T00:10:38.935271Z"
    },
    "papermill": {
     "duration": 0.699475,
     "end_time": "2022-05-28T00:10:38.938712",
     "exception": false,
     "start_time": "2022-05-28T00:10:38.239237",
     "status": "completed"
    },
    "tags": []
   },
   "outputs": [
    {
     "name": "stderr",
     "output_type": "stream",
     "text": [
      "2022-05-28 00:10:38.298597: I tensorflow/core/common_runtime/process_util.cc:146] Creating new thread pool with default inter op setting: 2. Tune using inter_op_parallelism_threads for best performance.\n"
     ]
    },
    {
     "name": "stdout",
     "output_type": "stream",
     "text": [
      "Model: \"sequential\"\n",
      "_________________________________________________________________\n",
      "Layer (type)                 Output Shape              Param #   \n",
      "=================================================================\n",
      "embedding (Embedding)        (None, 140, 64)           640000    \n",
      "_________________________________________________________________\n",
      "bidirectional (Bidirectional (None, 300)               258000    \n",
      "_________________________________________________________________\n",
      "dropout (Dropout)            (None, 300)               0         \n",
      "_________________________________________________________________\n",
      "dense (Dense)                (None, 512)               154112    \n",
      "_________________________________________________________________\n",
      "dropout_1 (Dropout)          (None, 512)               0         \n",
      "_________________________________________________________________\n",
      "dense_1 (Dense)              (None, 1)                 513       \n",
      "=================================================================\n",
      "Total params: 1,052,625\n",
      "Trainable params: 1,052,625\n",
      "Non-trainable params: 0\n",
      "_________________________________________________________________\n"
     ]
    }
   ],
   "source": [
    "from tensorflow.keras.models import Sequential\n",
    "from tensorflow.keras.layers import Embedding, LSTM, Dense, Bidirectional, Dropout\n",
    "from tensorflow.keras.optimizers import Adam\n",
    "\n",
    "input_dim = 10_000\n",
    "input_length = 140\n",
    "\n",
    "# Model architecture\n",
    "model = Sequential([\n",
    "    Embedding(input_dim = input_dim, output_dim = 64, input_length = input_length),\n",
    "    Bidirectional(LSTM(150)),\n",
    "    Dropout(0.4),\n",
    "    Dense(512, activation = \"relu\"),\n",
    "    Dropout(0.5),\n",
    "    Dense(1, activation = \"sigmoid\")\n",
    "])\n",
    "\n",
    "model.compile(\n",
    "    loss = \"binary_crossentropy\",\n",
    "    optimizer = Adam(),\n",
    "    metrics = [\"Accuracy\", \"Precision\", \"Recall\"]\n",
    ")\n",
    "\n",
    "model.summary()"
   ]
  },
  {
   "cell_type": "code",
   "execution_count": 13,
   "id": "fa2d27eb",
   "metadata": {
    "execution": {
     "iopub.execute_input": "2022-05-28T00:10:38.956371Z",
     "iopub.status.busy": "2022-05-28T00:10:38.955620Z",
     "iopub.status.idle": "2022-05-28T00:18:04.078063Z",
     "shell.execute_reply": "2022-05-28T00:18:04.076601Z"
    },
    "papermill": {
     "duration": 445.134402,
     "end_time": "2022-05-28T00:18:04.080961",
     "exception": false,
     "start_time": "2022-05-28T00:10:38.946559",
     "status": "completed"
    },
    "tags": []
   },
   "outputs": [
    {
     "name": "stdout",
     "output_type": "stream",
     "text": [
      "Epoch 1/100\n"
     ]
    },
    {
     "name": "stderr",
     "output_type": "stream",
     "text": [
      "2022-05-28 00:10:39.020445: I tensorflow/compiler/mlir/mlir_graph_optimization_pass.cc:185] None of the MLIR Optimization Passes are enabled (registered 2)\n"
     ]
    },
    {
     "name": "stdout",
     "output_type": "stream",
     "text": [
      "60/60 [==============================] - 34s 496ms/step - loss: 0.6175 - Accuracy: 0.6526 - precision: 0.6493 - recall: 0.4161\n",
      "Epoch 2/100\n",
      "60/60 [==============================] - 29s 489ms/step - loss: 0.3652 - Accuracy: 0.8466 - precision: 0.8735 - recall: 0.7518\n",
      "Epoch 3/100\n",
      "60/60 [==============================] - 29s 488ms/step - loss: 0.2410 - Accuracy: 0.9095 - precision: 0.9205 - recall: 0.8640\n",
      "Epoch 4/100\n",
      "60/60 [==============================] - 29s 490ms/step - loss: 0.8066 - Accuracy: 0.5811 - precision: 0.5154 - recall: 0.4204\n",
      "Epoch 5/100\n",
      "60/60 [==============================] - 29s 487ms/step - loss: 0.6733 - Accuracy: 0.5680 - precision: 0.4598 - recall: 0.0315\n",
      "Epoch 6/100\n",
      "60/60 [==============================] - 28s 474ms/step - loss: 0.6730 - Accuracy: 0.5673 - precision: 0.4034 - recall: 0.0147\n",
      "Epoch 7/100\n",
      "60/60 [==============================] - 29s 489ms/step - loss: 0.6706 - Accuracy: 0.5764 - precision: 0.5373 - recall: 0.1012\n",
      "Epoch 8/100\n",
      "60/60 [==============================] - 29s 485ms/step - loss: 0.6718 - Accuracy: 0.5765 - precision: 0.5232 - recall: 0.1620\n",
      "Epoch 9/100\n",
      "60/60 [==============================] - 29s 489ms/step - loss: 0.6644 - Accuracy: 0.5906 - precision: 0.5603 - recall: 0.2189\n",
      "Epoch 10/100\n",
      "60/60 [==============================] - 30s 496ms/step - loss: 0.6242 - Accuracy: 0.6393 - precision: 0.6217 - recall: 0.4100\n",
      "Epoch 11/100\n",
      "60/60 [==============================] - 30s 493ms/step - loss: 0.4749 - Accuracy: 0.7783 - precision: 0.7830 - recall: 0.6695\n",
      "Epoch 12/100\n",
      "60/60 [==============================] - 30s 496ms/step - loss: 0.3228 - Accuracy: 0.8759 - precision: 0.8856 - recall: 0.8166\n",
      "Epoch 13/100\n",
      "60/60 [==============================] - 30s 492ms/step - loss: 0.2189 - Accuracy: 0.9213 - precision: 0.9231 - recall: 0.8912\n",
      "Epoch 14/100\n",
      "60/60 [==============================] - 29s 487ms/step - loss: 0.1624 - Accuracy: 0.9431 - precision: 0.9499 - recall: 0.9159\n",
      "Epoch 15/100\n",
      "60/60 [==============================] - 29s 485ms/step - loss: 0.1384 - Accuracy: 0.9552 - precision: 0.9621 - recall: 0.9324\n",
      "Accuracy >= 95%, training stopped.\n"
     ]
    }
   ],
   "source": [
    "# Training the model\n",
    "history = model.fit(\n",
    "    np.array(training_seqs),\n",
    "    np.array(train_labels),\n",
    "    epochs = 100,\n",
    "    batch_size = 128,\n",
    "    callbacks = [my_callback, lr_scheduler],\n",
    "    verbose = 1)"
   ]
  },
  {
   "cell_type": "code",
   "execution_count": 14,
   "id": "c768299c",
   "metadata": {
    "execution": {
     "iopub.execute_input": "2022-05-28T00:18:04.233445Z",
     "iopub.status.busy": "2022-05-28T00:18:04.233001Z",
     "iopub.status.idle": "2022-05-28T00:18:04.679849Z",
     "shell.execute_reply": "2022-05-28T00:18:04.678800Z"
    },
    "papermill": {
     "duration": 0.523982,
     "end_time": "2022-05-28T00:18:04.682345",
     "exception": false,
     "start_time": "2022-05-28T00:18:04.158363",
     "status": "completed"
    },
    "tags": []
   },
   "outputs": [
    {
     "data": {
      "image/png": "[encoded data removed]",
      "text/plain": [
       "<Figure size 1440x360 with 3 Axes>"
      ]
     },
     "metadata": {
      "needs_background": "light"
     },
     "output_type": "display_data"
    }
   ],
   "source": [
    "# Plotting the trianing history of the model\n",
    "plt.rcParams[\"figure.figsize\"] = (20, 5)\n",
    "fig, axs = plt.subplots(1, 3)\n",
    "\n",
    "axs[0].plot(history.history[\"loss\"], color = \"red\")\n",
    "axs[0].set_xlabel(\"Epoch\")\n",
    "axs[0].set_ylabel(\"Loss\")\n",
    "axs[0].set_title(\"Training Loss\")\n",
    "\n",
    "axs[1].plot(history.history[\"Accuracy\"])\n",
    "axs[1].set_xlabel(\"Epoch\")\n",
    "axs[1].set_ylabel(\"Accuracy\")\n",
    "axs[1].set_title(\"Training Accuracy\")\n",
    "\n",
    "f1 = 2 * ((np.array(history.history[\"precision\"])*np.array(history.history[\"recall\"]))\\\n",
    "          /((np.array(history.history[\"precision\"])+np.array(history.history[\"recall\"]))))\n",
    "\n",
    "axs[2].plot(f1, color = \"green\")\n",
    "axs[2].set_xlabel(\"Epoch\")\n",
    "axs[2].set_ylabel(\"F1 Score\")\n",
    "axs[2].set_title(\"Training F1 Score\")\n",
    "\n",
    "plt.show()"
   ]
  },
  {
   "cell_type": "code",
   "execution_count": 15,
   "id": "d6f58c23",
   "metadata": {
    "execution": {
     "iopub.execute_input": "2022-05-28T00:18:04.833401Z",
     "iopub.status.busy": "2022-05-28T00:18:04.832688Z",
     "iopub.status.idle": "2022-05-28T00:18:09.516364Z",
     "shell.execute_reply": "2022-05-28T00:18:09.515397Z"
    },
    "papermill": {
     "duration": 4.761495,
     "end_time": "2022-05-28T00:18:09.518482",
     "exception": false,
     "start_time": "2022-05-28T00:18:04.756987",
     "status": "completed"
    },
    "tags": []
   },
   "outputs": [
    {
     "name": "stdout",
     "output_type": "stream",
     "text": [
      "26/26 [==============================] - 5s 150ms/step\n"
     ]
    },
    {
     "data": {
      "text/html": [
       "<div>\n",
       "<style scoped>\n",
       "    .dataframe tbody tr th:only-of-type {\n",
       "        vertical-align: middle;\n",
       "    }\n",
       "\n",
       "    .dataframe tbody tr th {\n",
       "        vertical-align: top;\n",
       "    }\n",
       "\n",
       "    .dataframe thead th {\n",
       "        text-align: right;\n",
       "    }\n",
       "</style>\n",
       "<table border=\"1\" class=\"dataframe\">\n",
       "  <thead>\n",
       "    <tr style=\"text-align: right;\">\n",
       "      <th></th>\n",
       "      <th>id</th>\n",
       "      <th>target</th>\n",
       "    </tr>\n",
       "  </thead>\n",
       "  <tbody>\n",
       "    <tr>\n",
       "      <th>0</th>\n",
       "      <td>0</td>\n",
       "      <td>1</td>\n",
       "    </tr>\n",
       "    <tr>\n",
       "      <th>1</th>\n",
       "      <td>2</td>\n",
       "      <td>0</td>\n",
       "    </tr>\n",
       "    <tr>\n",
       "      <th>2</th>\n",
       "      <td>3</td>\n",
       "      <td>1</td>\n",
       "    </tr>\n",
       "    <tr>\n",
       "      <th>3</th>\n",
       "      <td>9</td>\n",
       "      <td>0</td>\n",
       "    </tr>\n",
       "    <tr>\n",
       "      <th>4</th>\n",
       "      <td>11</td>\n",
       "      <td>1</td>\n",
       "    </tr>\n",
       "  </tbody>\n",
       "</table>\n",
       "</div>"
      ],
      "text/plain": [
       "   id  target\n",
       "0   0       1\n",
       "1   2       0\n",
       "2   3       1\n",
       "3   9       0\n",
       "4  11       1"
      ]
     },
     "execution_count": 15,
     "metadata": {},
     "output_type": "execute_result"
    }
   ],
   "source": [
    "# Creating predictions for testing data\n",
    "evaluation = model.predict(np.array(testing_seqs),\n",
    "                          batch_size = 128,\n",
    "                          verbose = 1)\n",
    "\n",
    "submission_df = pd.read_csv(\"../input/nlp-getting-started/sample_submission.csv\")\n",
    "submission_df[\"target\"] = np.int_(evaluation.round())\n",
    "submission_df.head()"
   ]
  },
  {
   "cell_type": "code",
   "execution_count": 16,
   "id": "5d89699f",
   "metadata": {
    "execution": {
     "iopub.execute_input": "2022-05-28T00:18:09.676196Z",
     "iopub.status.busy": "2022-05-28T00:18:09.675252Z",
     "iopub.status.idle": "2022-05-28T00:18:09.690354Z",
     "shell.execute_reply": "2022-05-28T00:18:09.689386Z"
    },
    "papermill": {
     "duration": 0.095681,
     "end_time": "2022-05-28T00:18:09.692688",
     "exception": false,
     "start_time": "2022-05-28T00:18:09.597007",
     "status": "completed"
    },
    "tags": []
   },
   "outputs": [],
   "source": [
    "submission_df.to_csv(\"submission.csv\", index = False)"
   ]
  }
 ],
 "metadata": {
  "kernelspec": {
   "display_name": "Python 3",
   "language": "python",
   "name": "python3"
  },
  "language_info": {
   "codemirror_mode": {
    "name": "ipython",
    "version": 3
   },
   "file_extension": ".py",
   "mimetype": "text/x-python",
   "name": "python",
   "nbconvert_exporter": "python",
   "pygments_lexer": "ipython3",
   "version": "3.7.12"
  },
  "papermill": {
   "default_parameters": {},
   "duration": 475.860504,
   "end_time": "2022-05-28T00:18:13.288844",
   "environment_variables": {},
   "exception": null,
   "input_path": "__notebook__.ipynb",
   "output_path": "__notebook__.ipynb",
   "parameters": {},
   "start_time": "2022-05-28T00:10:17.428340",
   "version": "2.3.4"
  }
 },
 "nbformat": 4,
 "nbformat_minor": 5
}
