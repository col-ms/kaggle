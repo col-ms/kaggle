{
 "cells": [
  {
   "cell_type": "markdown",
   "id": "7257f24a",
   "metadata": {
    "_cell_guid": "b1076dfc-b9ad-4769-8c92-a6c4dae69d19",
    "_uuid": "8f2839f25d086af736a60e9eeb907d3b93b6e0e5",
    "papermill": {
     "duration": 0.003671,
     "end_time": "2022-05-26T19:27:18.827974",
     "exception": false,
     "start_time": "2022-05-26T19:27:18.824303",
     "status": "completed"
    },
    "tags": []
   },
   "source": [
    "# Natural Language Processing with TensorFlow\n",
    "\n",
    "**In this notebook I will be using TensorFlow to process tweets and predict whether they pertain to a disaster or not.**\n",
    "\n",
    "---\n",
    "\n",
    "**Notes**  \n",
    "\n",
    "- This notebook was created using the guide found [here](https://www.kaggle.com/code/calebreigada/tensorflow-natural-language-processing-guide/notebook). \n",
    "- I do not take any credit for the methods displayed, as I am following a guide and simply applying the techniques there to a different set of data.\n",
    "- As suggested in the guide linked, prior research was done on unfamiliar topics to help understand the work flow better. I am certainly not an expert in this topic and am still learning.\n",
    "\n",
    "---\n"
   ]
  },
  {
   "cell_type": "markdown",
   "id": "95435296",
   "metadata": {
    "papermill": {
     "duration": 0.001829,
     "end_time": "2022-05-26T19:27:18.832227",
     "exception": false,
     "start_time": "2022-05-26T19:27:18.830398",
     "status": "completed"
    },
    "tags": []
   },
   "source": [
    "# Loading the Data\n",
    "\n",
    "For this notebook, I will be using the [Natural Language Processing with Disaster Tweets](https://www.kaggle.com/competitions/nlp-getting-started) dataset. This set is a great way to get started with NLP models and applications, and understand how machine learning algorithms can be used on non-numeric data through data transformations.  \n",
    "\n",
    "The dataset contains tweets that fall into one of two conditions: either they are discussing a real life disaster, or they are not. This may seem like a fairly easy thing to discern, but as listed on the dataset's page, there are instances where based on wording alone, it can be difficult to identify the correct category. "
   ]
  },
  {
   "cell_type": "code",
   "execution_count": 1,
   "id": "af5e9364",
   "metadata": {
    "execution": {
     "iopub.execute_input": "2022-05-26T19:27:18.838054Z",
     "iopub.status.busy": "2022-05-26T19:27:18.837579Z",
     "iopub.status.idle": "2022-05-26T19:27:24.111969Z",
     "shell.execute_reply": "2022-05-26T19:27:24.110837Z"
    },
    "papermill": {
     "duration": 5.280329,
     "end_time": "2022-05-26T19:27:24.114552",
     "exception": false,
     "start_time": "2022-05-26T19:27:18.834223",
     "status": "completed"
    },
    "tags": []
   },
   "outputs": [],
   "source": [
    "# Importing libraries\n",
    "import tensorflow as tf\n",
    "import numpy as np\n",
    "import matplotlib.pyplot as plt\n",
    "import pandas as pd"
   ]
  },
  {
   "cell_type": "code",
   "execution_count": 2,
   "id": "07fc0fa4",
   "metadata": {
    "execution": {
     "iopub.execute_input": "2022-05-26T19:27:24.121200Z",
     "iopub.status.busy": "2022-05-26T19:27:24.120189Z",
     "iopub.status.idle": "2022-05-26T19:27:24.200167Z",
     "shell.execute_reply": "2022-05-26T19:27:24.198915Z"
    },
    "papermill": {
     "duration": 0.085724,
     "end_time": "2022-05-26T19:27:24.202669",
     "exception": false,
     "start_time": "2022-05-26T19:27:24.116945",
     "status": "completed"
    },
    "tags": []
   },
   "outputs": [],
   "source": [
    "# Reading in data\n",
    "train_full = pd.read_csv(\"../input/nlp-getting-started/train.csv\")\n",
    "test_full = pd.read_csv(\"../input/nlp-getting-started/test.csv\")\n",
    "\n",
    "train_text = train_full[\"text\"]\n",
    "train_labels = train_full[\"target\"]\n",
    "\n",
    "test_text = test_full[\"text\"]\n",
    "test_labels = test_full[\"text\"]"
   ]
  },
  {
   "cell_type": "markdown",
   "id": "c922ec8b",
   "metadata": {
    "papermill": {
     "duration": 0.001927,
     "end_time": "2022-05-26T19:27:24.206876",
     "exception": false,
     "start_time": "2022-05-26T19:27:24.204949",
     "status": "completed"
    },
    "tags": []
   },
   "source": [
    "Now that our data has been loaded, let's take a quick look at some tweet examples. We'll investigate a random sample of the training data to see what a disaster-related tweet looks like as well as a non-disaster-related tweet."
   ]
  },
  {
   "cell_type": "code",
   "execution_count": 3,
   "id": "9e722d4f",
   "metadata": {
    "execution": {
     "iopub.execute_input": "2022-05-26T19:27:24.214968Z",
     "iopub.status.busy": "2022-05-26T19:27:24.214405Z",
     "iopub.status.idle": "2022-05-26T19:27:24.220441Z",
     "shell.execute_reply": "2022-05-26T19:27:24.219787Z"
    },
    "papermill": {
     "duration": 0.014212,
     "end_time": "2022-05-26T19:27:24.223100",
     "exception": false,
     "start_time": "2022-05-26T19:27:24.208888",
     "status": "completed"
    },
    "tags": []
   },
   "outputs": [
    {
     "name": "stdout",
     "output_type": "stream",
     "text": [
      "Example training data observations\n",
      "---------------\n",
      "\n",
      "Tweet classifier: Non-disaster\n",
      "Tweet: Building the perfect tracklist to life leave the streets ablaze \n",
      "\n",
      "Tweet classifier: Disaster\n",
      "Tweet: How the West was burned: Thousands of wildfires ablaze in #California alone http://t.co/iCSjGZ9tE1 #climate #energy http://t.co/9FxmN0l0Bd \n",
      "\n",
      "Tweet classifier: Disaster\n",
      "Tweet: Barbados #Bridgetown JAMAICA ÛÒ Two cars set ablaze: SANTA CRUZ ÛÓ Head of the St Elizabeth Police Superintende...  http://t.co/wDUEaj8Q4J \n",
      "\n",
      "Tweet classifier: Disaster\n",
      "Tweet: RT nAAYf: First accident in years. Turning onto Chandanee Magu from near MMA. Taxi rammed into me while I was halfway turned. Everyone confÛ_ \n",
      "\n",
      "Tweet classifier: Non-disaster\n",
      "Tweet: First night with retainers in. It's quite weird. Better get used to it; I have to wear them every single night for the next year at least. \n",
      "\n",
      "Tweet classifier: Non-disaster\n",
      "Tweet: #stlouis #caraccidentlawyer Speeding Among Top Causes of Teen Accidents https://t.co/k4zoMOF319 https://t.co/S2kXVM0cBA Car Accident teeÛ_ \n",
      "\n",
      "Tweet classifier: Non-disaster\n",
      "Tweet: Do you like pasta? \n",
      "\n",
      "Tweet classifier: Non-disaster\n",
      "Tweet: Ablaze for you Lord :D \n",
      "\n",
      "Tweet classifier: Disaster\n",
      "Tweet: ;ACCIDENT PROPERTY DAMAGE; PINER RD/HORNDALE DR \n",
      "\n",
      "Tweet classifier: Disaster\n",
      "Tweet: How the West was burned: Thousands of wildfires ablaze in California alone http://t.co/vl5TBR3wbr \n",
      "\n"
     ]
    }
   ],
   "source": [
    "# Print sample observations from training data\n",
    "print(\"Example training data observations\")\n",
    "print(\"---------------\\n\")\n",
    "np.random.seed(777)\n",
    "for i in np.random.randint(0, high = 100, size = 10):\n",
    "    tweet_type = \"Disaster\" if train_labels[i] == 1 else \"Non-disaster\"\n",
    "    print(\"Tweet classifier:\", tweet_type)\n",
    "    print(\"Tweet:\", train_text[i], \"\\n\")"
   ]
  },
  {
   "cell_type": "markdown",
   "id": "81f0db09",
   "metadata": {
    "papermill": {
     "duration": 0.002051,
     "end_time": "2022-05-26T19:27:24.227578",
     "exception": false,
     "start_time": "2022-05-26T19:27:24.225527",
     "status": "completed"
    },
    "tags": []
   },
   "source": [
    "Great! This printout gives us good insight into how the tweets may vary in their wording, but also how certain words may appear to be disaster related, but also come up in non-disaster tweets. For example, the 8th tweet listed above contains the word \"ablaze\". This would typically be associated with a disaster related tweet talking about a fire. However, here we see it being used in a non-disaster tweet. This sort of occurance is an obstacle in predicting the tweets sentiment, and represents just one type of challenge faced when performing NLP.\n",
    "\n",
    "Other observations:\n",
    "- Many of the tweets contain links to images, something to consider when cleaning the text\n",
    "- There are a couple unusual characters in the tweet, such as \"ÛÒ\" and \"Û_\"\n",
    "- Hashtags may need to get cleaned out to ensure the words following the tag are read properly"
   ]
  }
 ],
 "metadata": {
  "kernelspec": {
   "display_name": "Python 3",
   "language": "python",
   "name": "python3"
  },
  "language_info": {
   "codemirror_mode": {
    "name": "ipython",
    "version": 3
   },
   "file_extension": ".py",
   "mimetype": "text/x-python",
   "name": "python",
   "nbconvert_exporter": "python",
   "pygments_lexer": "ipython3",
   "version": "3.7.12"
  },
  "papermill": {
   "default_parameters": {},
   "duration": 18.103266,
   "end_time": "2022-05-26T19:27:27.676819",
   "environment_variables": {},
   "exception": null,
   "input_path": "__notebook__.ipynb",
   "output_path": "__notebook__.ipynb",
   "parameters": {},
   "start_time": "2022-05-26T19:27:09.573553",
   "version": "2.3.4"
  }
 },
 "nbformat": 4,
 "nbformat_minor": 5
}
